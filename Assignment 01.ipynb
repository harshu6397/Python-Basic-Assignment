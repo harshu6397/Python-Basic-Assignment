{
 "cells": [
  {
   "cell_type": "markdown",
   "id": "bbe9b12e",
   "metadata": {},
   "source": [
    "1. In the below elements which of them are values or an expression? <br>\n",
    "eg:- values can be\n",
    "integer or string and expressions will be mathematical operators.\n",
    "*\n",
    "&#39;hello&#39;\n",
    "-87.8\n",
    "-\n",
    "/\n",
    "+\n",
    "6"
   ]
  },
  {
   "cell_type": "markdown",
   "id": "1cd8cf6f",
   "metadata": {},
   "source": [
    "<b>Answer:</b>"
   ]
  },
  {
   "cell_type": "markdown",
   "id": "eb163841",
   "metadata": {},
   "source": [
    "Here 'hello', -87.8 and 6 are values whereas *,-,/,+ are the expressions"
   ]
  },
  {
   "cell_type": "markdown",
   "id": "81d4fc11",
   "metadata": {},
   "source": [
    "<hr>"
   ]
  },
  {
   "cell_type": "markdown",
   "id": "9d8ad3f6",
   "metadata": {},
   "source": [
    "2. What is the difference between string and variable?"
   ]
  },
  {
   "cell_type": "markdown",
   "id": "bb3dfa48",
   "metadata": {},
   "source": [
    "<p><u><b>String:</b></u> A string basically the sequence of character which are enclosed between the double quotes.<br>\n",
    "eg: \"iNeuron\" is a string because it is a sequence of character and it is enclosed between the double quotes.\n",
    "\n",
    "<u><b>variable:</b></u> Variable basically are the names that are given to some memory location. We can store values inside the varibale name\n",
    "and use the value whenever we need.\n",
    "\n",
    "eg: age, myName, temp are same variable names.</p>"
   ]
  },
  {
   "cell_type": "code",
   "execution_count": 1,
   "id": "4e99b8b8",
   "metadata": {},
   "outputs": [
    {
     "name": "stdout",
     "output_type": "stream",
     "text": [
      "Harsh Kumar\n"
     ]
    },
    {
     "data": {
      "text/plain": [
       "str"
      ]
     },
     "execution_count": 1,
     "metadata": {},
     "output_type": "execute_result"
    }
   ],
   "source": [
    "# Lets see strings in Python\n",
    "myName = \"Harsh Kumar\" # Here myName is a variable name whereas \"Harsh Kumar\" is a string\n",
    "print(myName) # We can access the value inside the variable just using the name of the variable\n",
    "type(myName) # we can check the type using type function"
   ]
  },
  {
   "cell_type": "markdown",
   "id": "da0e6f83",
   "metadata": {},
   "source": [
    "<hr>"
   ]
  },
  {
   "cell_type": "markdown",
   "id": "e4419cda",
   "metadata": {},
   "source": [
    "3. Describe three different data types."
   ]
  },
  {
   "cell_type": "code",
   "execution_count": 2,
   "id": "97926a9e",
   "metadata": {},
   "outputs": [
    {
     "name": "stdout",
     "output_type": "stream",
     "text": [
      "10\n"
     ]
    },
    {
     "data": {
      "text/plain": [
       "int"
      ]
     },
     "execution_count": 2,
     "metadata": {},
     "output_type": "execute_result"
    }
   ],
   "source": [
    "'''\n",
    "The three datatypes are: \n",
    "-> Interger\n",
    "-> String\n",
    "-> Float\n",
    "'''\n",
    "\n",
    "# Lets see all these datatypes in Python\n",
    "var = 10 # var is an Integer Variable\n",
    "print(var)\n",
    "type(var)"
   ]
  },
  {
   "cell_type": "code",
   "execution_count": 3,
   "id": "399d5302",
   "metadata": {},
   "outputs": [
    {
     "name": "stdout",
     "output_type": "stream",
     "text": [
      "iNeuron\n"
     ]
    },
    {
     "data": {
      "text/plain": [
       "str"
      ]
     },
     "execution_count": 3,
     "metadata": {},
     "output_type": "execute_result"
    }
   ],
   "source": [
    "name = \"iNeuron\" # name is a String variable\n",
    "print(name)\n",
    "type(name)"
   ]
  },
  {
   "cell_type": "code",
   "execution_count": 4,
   "id": "b646fc3b",
   "metadata": {},
   "outputs": [
    {
     "name": "stdout",
     "output_type": "stream",
     "text": [
      "3.14\n"
     ]
    },
    {
     "data": {
      "text/plain": [
       "float"
      ]
     },
     "execution_count": 4,
     "metadata": {},
     "output_type": "execute_result"
    }
   ],
   "source": [
    "num = 3.14 # name is a Float variable\n",
    "print(num)\n",
    "type(num)"
   ]
  },
  {
   "cell_type": "markdown",
   "id": "5f64fb8e",
   "metadata": {},
   "source": [
    "<hr>"
   ]
  },
  {
   "cell_type": "markdown",
   "id": "73002e3a",
   "metadata": {},
   "source": [
    "4. What is an expression made up of? What do all expressions do?"
   ]
  },
  {
   "cell_type": "markdown",
   "id": "d2659b35",
   "metadata": {},
   "source": [
    "<p><u><b>Expression:</b></u> An expression is the combination of operands and different types of operators<br>\n",
    "Eg: a + b*c is an example of expressions.\n",
    "\n",
    "<u><b>Components of an Expressions:</b></u> There are mainly two components: \n",
    "<ol>\n",
    "    <li>operator</li>\n",
    "    <li>operands</li>\n",
    "</ol>\n",
    "    \n",
    "<u><b>Use of Expressions: </b></u> There are some use of expressions:\n",
    "<ul>\n",
    "    <li>This is basically used to express the calclutions and to find out a valid after calclution.</li>\n",
    "    <li>This is used to make the statements which are used to writing instructions in a program.</li>\n",
    "</ul>\n",
    "</p> "
   ]
  },
  {
   "cell_type": "code",
   "execution_count": 5,
   "id": "1ff4bb4c",
   "metadata": {},
   "outputs": [
    {
     "data": {
      "text/plain": [
       "'I have eaten 99 burritos.'"
      ]
     },
     "execution_count": 5,
     "metadata": {},
     "output_type": "execute_result"
    }
   ],
   "source": [
    "# Expressions\n",
    "'I have eaten ' + str(99) + ' burritos.' # this is an expression"
   ]
  },
  {
   "cell_type": "markdown",
   "id": "740b4f7e",
   "metadata": {},
   "source": [
    "<hr>"
   ]
  },
  {
   "cell_type": "markdown",
   "id": "40ae024b",
   "metadata": {},
   "source": [
    "5. This assignment statements, like spam = 10. What is the difference between an\n",
    "expression and a statement?"
   ]
  },
  {
   "cell_type": "markdown",
   "id": "c908db0e",
   "metadata": {},
   "source": [
    "<p>\n",
    "The basic difference between the expression and statements is that the expressions are used to make the statements but statements do not make expressions.<br>\n",
    "Eg: a = 5*6 + 63 <br>\n",
    "    This complete line is called an assignment statement whereas 5*6 + 63 is an expression.\n",
    "</p>"
   ]
  },
  {
   "cell_type": "code",
   "execution_count": 6,
   "id": "55c64a9c",
   "metadata": {},
   "outputs": [
    {
     "name": "stdout",
     "output_type": "stream",
     "text": [
      "I have eaten 99 burritos.\n"
     ]
    }
   ],
   "source": [
    "# Statements vs Expression\n",
    "sentence = 'I have eaten ' + str(99) + ' burritos.' # Here the complete line is statement and the RHS side text is an expression\n",
    "print(sentence)"
   ]
  },
  {
   "cell_type": "markdown",
   "id": "f64c537f",
   "metadata": {},
   "source": [
    "<hr>\n"
   ]
  },
  {
   "cell_type": "markdown",
   "id": "82883d88",
   "metadata": {},
   "source": [
    "6. After running the following code, what does the variable bacon contain?<br>\n",
    "bacon = 22<br>\n",
    "bacon + 1\n",
    "\n",
    "<b>Answer: </b>The variable bacon conatins 22 as a value after running the following code because we add the 1 in the bacon variable but don't assign the value to the bacon variable"
   ]
  },
  {
   "cell_type": "code",
   "execution_count": 7,
   "id": "094dd4b5",
   "metadata": {},
   "outputs": [
    {
     "name": "stdout",
     "output_type": "stream",
     "text": [
      "22\n"
     ]
    }
   ],
   "source": [
    "bacon = 22\n",
    "bacon + 1\n",
    "print(bacon)"
   ]
  },
  {
   "cell_type": "markdown",
   "id": "00de434c",
   "metadata": {},
   "source": [
    "<hr>"
   ]
  },
  {
   "cell_type": "markdown",
   "id": "60b74fb3",
   "metadata": {},
   "source": [
    "7. What should the values of the following two terms be?<br>\n",
    "&#39;spam&#39; + &#39;spamspam&#39;<br>\n",
    "&#39;spam&#39; * 3\n",
    "\n",
    "<b>Answer: </b>The first statement the shows the <i>concatenation operation</i> of the string and the result of the first statement is 'spamspamspam'.<br>\n",
    "The second statement shows the <i>multiplying operation</i> of the string and the result of the statemnt is 'spamspamspam'."
   ]
  },
  {
   "cell_type": "code",
   "execution_count": 8,
   "id": "462560df",
   "metadata": {},
   "outputs": [
    {
     "name": "stdout",
     "output_type": "stream",
     "text": [
      "Harsh Kumar\n"
     ]
    }
   ],
   "source": [
    "# Concatenation opeartion\n",
    "fname = \"Harsh\"\n",
    "lname = \"Kumar\"\n",
    "\n",
    "fullName = fname + \" \" + lname\n",
    "print(fullName)"
   ]
  },
  {
   "cell_type": "code",
   "execution_count": 9,
   "id": "3d3a2212",
   "metadata": {},
   "outputs": [
    {
     "name": "stdout",
     "output_type": "stream",
     "text": [
      "HarshHarshHarsh\n"
     ]
    }
   ],
   "source": [
    "# Multiplying Oparation\n",
    "name = \"Harsh\"\n",
    "mulName = name*3\n",
    "print(mulName)"
   ]
  },
  {
   "cell_type": "markdown",
   "id": "6bc7e877",
   "metadata": {},
   "source": [
    "<hr>"
   ]
  },
  {
   "cell_type": "markdown",
   "id": "934b8772",
   "metadata": {},
   "source": [
    "8. Why is eggs a valid variable name while 100 is invalid?"
   ]
  },
  {
   "cell_type": "markdown",
   "id": "de352b34",
   "metadata": {},
   "source": [
    "<b>Answer: </b>eggs is a valid variable name because eggs is start with an alphabet and do not contain any special symbol whereas 100 is not a valid variable because a variable name can't start with a digit."
   ]
  },
  {
   "cell_type": "code",
   "execution_count": 10,
   "id": "3f035e55",
   "metadata": {},
   "outputs": [
    {
     "ename": "SyntaxError",
     "evalue": "cannot assign to literal (Temp/ipykernel_1640/4199638956.py, line 2)",
     "output_type": "error",
     "traceback": [
      "\u001b[1;36m  File \u001b[1;32m\"C:\\Users\\harsh\\AppData\\Local\\Temp/ipykernel_1640/4199638956.py\"\u001b[1;36m, line \u001b[1;32m2\u001b[0m\n\u001b[1;33m    100 = 'Harsh' # Invalid\u001b[0m\n\u001b[1;37m    ^\u001b[0m\n\u001b[1;31mSyntaxError\u001b[0m\u001b[1;31m:\u001b[0m cannot assign to literal\n"
     ]
    }
   ],
   "source": [
    "eggs = 10 # Valid\n",
    "100 = 'Harsh' # Invalid"
   ]
  },
  {
   "cell_type": "markdown",
   "id": "1980728d",
   "metadata": {},
   "source": [
    "<hr>"
   ]
  },
  {
   "cell_type": "markdown",
   "id": "13188060",
   "metadata": {},
   "source": [
    "9. What three functions can be used to get the integer, floating-point number, or string version of a value?"
   ]
  },
  {
   "cell_type": "markdown",
   "id": "d0475f76",
   "metadata": {},
   "source": [
    "<b>Answer: </b>The three functions that are used to get the integer, floating-point number, or string version of a value as follow:<br>\n",
    "<ol>\n",
    "    <li>int()</li>\n",
    "    <li>float()</li>\n",
    "    <li>str()</li>\n",
    "</ol>"
   ]
  },
  {
   "cell_type": "code",
   "execution_count": null,
   "id": "a604414c",
   "metadata": {},
   "outputs": [],
   "source": [
    "# int() function\n",
    "num = '23' # Here '23' is a string\n",
    "intNum = int(num)\n",
    "print(num)\n",
    "type(intNum)"
   ]
  },
  {
   "cell_type": "code",
   "execution_count": null,
   "id": "0ffc03d0",
   "metadata": {},
   "outputs": [],
   "source": [
    "# float() function\n",
    "num1 = '485' # Here '23' is a string\n",
    "floatNum = float(num1)\n",
    "print(floatNum)\n",
    "type(floatNum)"
   ]
  },
  {
   "cell_type": "code",
   "execution_count": null,
   "id": "a356c87e",
   "metadata": {},
   "outputs": [],
   "source": [
    "# str() function\n",
    "num2 = 1000\n",
    "string = str(num2)\n",
    "print(string)\n",
    "type(string)"
   ]
  },
  {
   "cell_type": "markdown",
   "id": "0dece828",
   "metadata": {},
   "source": [
    "10. Why does this expression cause an error? How can you fix it?<br>\n",
    "&#39;I have eaten &#39; + 99 + &#39; burritos.&#39;\n",
    "\n",
    "<b>Answer: </b>This expression causes error because we are trying to concatenate the string with an integer. we can fix this error by using Typecasting. we can typecast 99 into string using str() function."
   ]
  },
  {
   "cell_type": "code",
   "execution_count": null,
   "id": "b4972922",
   "metadata": {},
   "outputs": [],
   "source": [
    "# 'I have eaten ' + 99 + ' burritos.' -->  Produce an error\n",
    "# Fix the error\n",
    "'I have eaten ' + str(99) + ' burritos.'"
   ]
  }
 ],
 "metadata": {
  "kernelspec": {
   "display_name": "Python 3 (ipykernel)",
   "language": "python",
   "name": "python3"
  },
  "language_info": {
   "codemirror_mode": {
    "name": "ipython",
    "version": 3
   },
   "file_extension": ".py",
   "mimetype": "text/x-python",
   "name": "python",
   "nbconvert_exporter": "python",
   "pygments_lexer": "ipython3",
   "version": "3.9.7"
  }
 },
 "nbformat": 4,
 "nbformat_minor": 5
}
